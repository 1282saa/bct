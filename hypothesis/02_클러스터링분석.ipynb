{
 "cells": [
  {
   "cell_type": "markdown",
   "metadata": {},
   "source": [
    "# 02. 클러스터링 분석\n",
    "\n",
    "## 목적\n",
    "- 5단계 상태 라벨링 (정상영업, D-12m, D-9m, D-6m, D-3m)\n",
    "- K-means 클러스터링으로 가맹점 세분화\n",
    "- 클러스터별 임박비중 계산 (위험도 평가)"
   ]
  },
  {
   "cell_type": "markdown",
   "metadata": {},
   "source": [
    "## 1. 데이터 로드 및 날짜 처리"
   ]
  },
  {
   "cell_type": "code",
   "execution_count": 1,
   "metadata": {},
   "outputs": [
    {
     "name": "stdout",
     "output_type": "stream",
     "text": [
      "데이터 형태: (86263, 192)\n",
      "폐업 가맹점: 2,334개\n"
     ]
    }
   ],
   "source": [
    "import pandas as pd\n",
    "import numpy as np\n",
    "from sklearn.cluster import KMeans\n",
    "from sklearn.preprocessing import StandardScaler\n",
    "from sklearn.metrics import silhouette_score, davies_bouldin_score\n",
    "import warnings\n",
    "warnings.filterwarnings('ignore')\n",
    "\n",
    "data_path = \"/Users/yeong-gwang/Documents/배움 오전 1.38.42/외부/공모전/빅콘테스트/Project/work/ver3_/1009/빅콘테스트_전체병합데이터_20251008.csv\"\n",
    "df = pd.read_csv(data_path)\n",
    "\n",
    "# 날짜 변환\n",
    "df['기준년월_dt'] = pd.to_datetime(df['기준년월'].astype(str), format='%Y%m', errors='coerce')\n",
    "\n",
    "# 폐업월 계산\n",
    "def _to_periodM_from_any(s):\n",
    "    s = s.astype(str).str.replace(r'\\.0$', '', regex=True).str.strip()\n",
    "    dt = pd.to_datetime(s, errors='coerce')\n",
    "    return dt.dt.to_period('M')\n",
    "\n",
    "df['_관측월'] = df['기준년월_dt'].dt.to_period('M')\n",
    "df['_폐업월'] = _to_periodM_from_any(df['폐업일'])\n",
    "\n",
    "# 개월차 계산\n",
    "y1, m1 = df['_폐업월'].dt.year, df['_폐업월'].dt.month\n",
    "y0, m0 = df['_관측월'].dt.year, df['_관측월'].dt.month\n",
    "df['_months_to_close'] = (y1 - y0) * 12 + (m1 - m0)\n",
    "\n",
    "print(f\"데이터 형태: {df.shape}\")\n",
    "print(f\"폐업 가맹점: {df['_폐업월'].notna().sum():,}개\")"
   ]
  },
  {
   "cell_type": "markdown",
   "metadata": {},
   "source": [
    "## 2. 5단계 상태 라벨링"
   ]
  },
  {
   "cell_type": "code",
   "execution_count": 2,
   "metadata": {},
   "outputs": [
    {
     "name": "stdout",
     "output_type": "stream",
     "text": [
      "정상영업: 4,043개\n",
      "D-12m: 105개\n",
      "D-9m: 113개\n",
      "D-6m: 32개\n",
      "D-3m: 32개\n",
      "\n",
      "통합 데이터: 4,325개\n",
      "\n",
      "[상태 분포]:\n",
      "상태\n",
      "D-12m     105\n",
      "D-3m       32\n",
      "D-6m       32\n",
      "D-9m      113\n",
      "정상영업     4043\n",
      "Name: count, dtype: int64\n"
     ]
    }
   ],
   "source": [
    "# 정상영업: 한번도 폐업 기록 없는 가맹점의 최신 데이터\n",
    "closed_any = df.groupby('가맹점구분번호')['_폐업월'].transform(lambda s: s.notna().any())\n",
    "normal_latest = (df[~closed_any]\n",
    "                 .sort_values(['가맹점구분번호', '기준년월_dt'])\n",
    "                 .groupby('가맹점구분번호', as_index=False)\n",
    "                 .tail(1)\n",
    "                 .assign(상태='정상영업'))\n",
    "\n",
    "print(f\"정상영업: {len(normal_latest):,}개\")\n",
    "\n",
    "# 폐업 D-k: 각 가맹점에서 정확히 D-k 개월 전 스냅샷 1건\n",
    "def _pick_preclose(k):\n",
    "    sub = df[df['_months_to_close'].eq(k)].copy()\n",
    "    if sub.empty:\n",
    "        return sub.assign(상태=f'D-{k}m')\n",
    "    sub = (sub.sort_values(['가맹점구분번호', '기준년월_dt'])\n",
    "              .groupby('가맹점구분번호', as_index=False)\n",
    "              .tail(1))\n",
    "    sub['상태'] = f'D-{k}m'\n",
    "    return sub\n",
    "\n",
    "d12 = _pick_preclose(12)\n",
    "d9 = _pick_preclose(9)\n",
    "d6 = _pick_preclose(6)\n",
    "d3 = _pick_preclose(3)\n",
    "\n",
    "print(f\"D-12m: {len(d12):,}개\")\n",
    "print(f\"D-9m: {len(d9):,}개\")\n",
    "print(f\"D-6m: {len(d6):,}개\")\n",
    "print(f\"D-3m: {len(d3):,}개\")\n",
    "\n",
    "# 통합\n",
    "ana = pd.concat([normal_latest, d12, d9, d6, d3], ignore_index=True)\n",
    "\n",
    "STATUS_ORDER = [\"정상영업\", \"D-12m\", \"D-9m\", \"D-6m\", \"D-3m\"]\n",
    "STATUS_RANK = {s: i for i, s in enumerate(STATUS_ORDER)}\n",
    "ana['_상태_ord'] = ana['상태'].map(STATUS_RANK)\n",
    "\n",
    "print(f\"\\n통합 데이터: {len(ana):,}개\")\n",
    "print(\"\\n[상태 분포]:\")\n",
    "print(ana['상태'].value_counts().sort_index())"
   ]
  },
  {
   "cell_type": "markdown",
   "metadata": {},
   "source": [
    "### 해석\n",
    "- 정상영업: 폐업 이력이 없는 가맹점의 최근 스냅샷\n",
    "- D-k: 폐업 k개월 전 시점의 데이터\n",
    "- 시간 기반 라벨링으로 조기 경보 가능"
   ]
  },
  {
   "cell_type": "markdown",
   "metadata": {},
   "source": [
    "## 3. K-means 클러스터링"
   ]
  },
  {
   "cell_type": "code",
   "execution_count": 3,
   "metadata": {},
   "outputs": [
    {
     "name": "stdout",
     "output_type": "stream",
     "text": [
      "선택된 변수 수: 169개\n",
      "변수 행렬 형태: (4325, 169)\n"
     ]
    }
   ],
   "source": [
    "# 변수 선택 (결측 50% 기준)\n",
    "exclude_cols = {\n",
    "    '가맹점구분번호', '기준년월', '기준연월', '기준분기', '개설일', '폐업일',\n",
    "    '상권_코드', '상권_코드_명', '구분지역', '지역명',\n",
    "    '업종', '상태', '_상태_ord', '기준년월_dt',\n",
    "    '_폐업월', '_관측월', '_months_to_close'\n",
    "}\n",
    "\n",
    "cand_cols = [c for c in ana.columns if c not in exclude_cols]\n",
    "feat_cols = [c for c in cand_cols if pd.api.types.is_numeric_dtype(ana[c]) and ana[c].notna().mean() > 0.5]\n",
    "\n",
    "print(f\"선택된 변수 수: {len(feat_cols)}개\")\n",
    "\n",
    "# 결측치 처리\n",
    "cluster_df = ana[['가맹점구분번호', '상태', '_상태_ord'] + feat_cols].copy()\n",
    "for c in feat_cols:\n",
    "    if cluster_df[c].isna().any():\n",
    "        cluster_df[c] = cluster_df[c].fillna(cluster_df[c].median())\n",
    "\n",
    "# 스케일링\n",
    "X = cluster_df[feat_cols].values\n",
    "scaler = StandardScaler()\n",
    "X_scaled = scaler.fit_transform(X)\n",
    "\n",
    "print(f\"변수 행렬 형태: {X.shape}\")"
   ]
  },
  {
   "cell_type": "code",
   "execution_count": 4,
   "metadata": {},
   "outputs": [
    {
     "name": "stdout",
     "output_type": "stream",
     "text": [
      "k=3: Silhouette=0.5882, DB=1.1743\n",
      "k=4: Silhouette=0.5725, DB=1.1266\n",
      "k=5: Silhouette=0.2783, DB=1.3922\n",
      "k=6: Silhouette=0.1542, DB=1.5429\n",
      "k=7: Silhouette=0.1841, DB=1.3991\n",
      "\n",
      "최적 k: 3\n",
      "클러스터 할당 완료\n"
     ]
    }
   ],
   "source": [
    "# k 선택 (k=3~7)\n",
    "k_range = range(3, 8)\n",
    "evaluation_results = []\n",
    "\n",
    "for k in k_range:\n",
    "    kmeans = KMeans(n_clusters=k, n_init=30, random_state=42)\n",
    "    labels = kmeans.fit_predict(X_scaled)\n",
    "    silhouette = silhouette_score(X_scaled, labels)\n",
    "    db_score = davies_bouldin_score(X_scaled, labels)\n",
    "    evaluation_results.append({\n",
    "        'k': k,\n",
    "        'silhouette': silhouette,\n",
    "        'davies_bouldin': db_score\n",
    "    })\n",
    "    print(f\"k={k}: Silhouette={silhouette:.4f}, DB={db_score:.4f}\")\n",
    "\n",
    "eval_df = pd.DataFrame(evaluation_results)\n",
    "best_k = int(eval_df.loc[eval_df['silhouette'].idxmax(), 'k'])\n",
    "print(f\"\\n최적 k: {best_k}\")\n",
    "\n",
    "# 최종 클러스터링\n",
    "kmeans_final = KMeans(n_clusters=best_k, n_init=30, random_state=42)\n",
    "cluster_df['cluster'] = kmeans_final.fit_predict(X_scaled)\n",
    "print(f\"클러스터 할당 완료\")"
   ]
  },
  {
   "cell_type": "markdown",
   "metadata": {},
   "source": [
    "### 통계적 해석\n",
    "- Silhouette Score: 클러스터 간 분리도 (높을수록 좋음)\n",
    "- Davies-Bouldin Index: 클러스터 내 응집도 (낮을수록 좋음)\n",
    "- 최적 k 선택: Silhouette 최대화"
   ]
  },
  {
   "cell_type": "markdown",
   "metadata": {},
   "source": [
    "## 4. 임박비중 계산"
   ]
  },
  {
   "cell_type": "code",
   "execution_count": 5,
   "metadata": {},
   "outputs": [
    {
     "name": "stdout",
     "output_type": "stream",
     "text": [
      "\n",
      "클러스터별 임박비중:\n",
      "         가맹점수    정상  D12  D9  D6  D3      임박비중\n",
      "cluster                                       \n",
      "1          61     0   14  16  16  15  1.000000\n",
      "2         183     0   91  63  14  15  1.000000\n",
      "0        4081  4043    0  34   2   2  0.009311\n",
      "\n",
      "고위험 클러스터: [1, 2]\n"
     ]
    }
   ],
   "source": [
    "# 클러스터별 상태 분포\n",
    "cluster_risk = cluster_df.groupby('cluster').agg(\n",
    "    가맹점수=('가맹점구분번호', 'count'),\n",
    "    정상=('상태', lambda s: (s == '정상영업').sum()),\n",
    "    D12=('상태', lambda s: (s == 'D-12m').sum()),\n",
    "    D9=('상태', lambda s: (s == 'D-9m').sum()),\n",
    "    D6=('상태', lambda s: (s == 'D-6m').sum()),\n",
    "    D3=('상태', lambda s: (s == 'D-3m').sum())\n",
    ")\n",
    "\n",
    "# 임박비중 계산\n",
    "cluster_risk['임박비중'] = (\n",
    "    cluster_risk['D12'] + cluster_risk['D9'] + \n",
    "    cluster_risk['D6'] + cluster_risk['D3']\n",
    ") / cluster_risk['가맹점수']\n",
    "\n",
    "cluster_risk = cluster_risk.sort_values('임박비중', ascending=False)\n",
    "\n",
    "print(\"\\n클러스터별 임박비중:\")\n",
    "print(cluster_risk[['가맹점수', '정상', 'D12', 'D9', 'D6', 'D3', '임박비중']])\n",
    "\n",
    "# 고위험 클러스터\n",
    "high_risk_clusters = cluster_risk[cluster_risk['임박비중'] > 0.05].index.tolist()\n",
    "print(f\"\\n고위험 클러스터: {high_risk_clusters}\")"
   ]
  },
  {
   "cell_type": "markdown",
   "source": "<cell_type>markdown</cell_type>## 5. 결과 저장",
   "metadata": {}
  },
  {
   "cell_type": "markdown",
   "metadata": {},
   "source": "<cell_type>markdown</cell_type>### 정책적 의미\n- 임박비중 > 5%: 고위험 클러스터 → 즉시 개입 필요\n- 임박비중 2~5%: 중위험 → 집중 관리\n- 클러스터별 맞춤 정책 수립 가능"
  },
  {
   "cell_type": "code",
   "execution_count": 6,
   "metadata": {},
   "outputs": [
    {
     "name": "stdout",
     "output_type": "stream",
     "text": [
      "결과 저장 완료\n"
     ]
    }
   ],
   "source": [
    "import os\n",
    "output_dir = \"/Users/yeong-gwang/Documents/배움 오전 1.38.42/외부/공모전/빅콘테스트/Project/work/ver3_/1012/result/3_가설1분석\"\n",
    "os.makedirs(output_dir, exist_ok=True)\n",
    "\n",
    "# 클러스터 할당 결과\n",
    "result_df = cluster_df[['가맹점구분번호', 'cluster', '상태', '_상태_ord']].copy()\n",
    "result_df.to_csv(f\"{output_dir}/클러스터링_결과_완전판.csv\", index=False, encoding='utf-8-sig')\n",
    "\n",
    "# 임박비중 통계\n",
    "cluster_risk.to_csv(f\"{output_dir}/클러스터_임박비중_완전판.csv\", encoding='utf-8-sig')\n",
    "\n",
    "print(\"결과 저장 완료\")"
   ]
  },
  {
   "cell_type": "markdown",
   "metadata": {},
   "source": [
    "## 종합 결론\n",
    "\n",
    "### 클러스터링 성과\n",
    "1. **최적 클러스터 수**: Silhouette Score 기준으로 결정\n",
    "2. **고위험 클러스터 식별**: 임박비중 > 5% 기준\n",
    "3. **정책 우선순위**: 고위험 클러스터 집중 지원\n",
    "\n",
    "### 다음 단계\n",
    "- 공간분석 (LISA) 추가\n",
    "- 지도 시각화로 위험 지역 파악"
   ]
  }
 ],
 "metadata": {
  "kernelspec": {
   "display_name": "base",
   "language": "python",
   "name": "python3"
  },
  "language_info": {
   "codemirror_mode": {
    "name": "ipython",
    "version": 3
   },
   "file_extension": ".py",
   "mimetype": "text/x-python",
   "name": "python",
   "nbconvert_exporter": "python",
   "pygments_lexer": "ipython3",
   "version": "3.12.7"
  }
 },
 "nbformat": 4,
 "nbformat_minor": 4
}