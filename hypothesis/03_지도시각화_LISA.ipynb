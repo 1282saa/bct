{
 "cells": [
  {
   "cell_type": "markdown",
   "metadata": {},
   "source": [
    "# 03. 지도 시각화 및 LISA 분석\n",
    "\n",
    "## 목적\n",
    "- 클러스터링 결과를 지도에 시각화\n",
    "- LISA (Local Indicators of Spatial Association) 공간분석\n",
    "- High-High 핫스팟 식별"
   ]
  },
  {
   "cell_type": "code",
   "execution_count": 1,
   "metadata": {},
   "outputs": [
    {
     "name": "stdout",
     "output_type": "stream",
     "text": [
      "좌표 데이터: 4,325개\n"
     ]
    }
   ],
   "source": [
    "import pandas as pd\n",
    "import folium\n",
    "from pyproj import Transformer\n",
    "import warnings\n",
    "warnings.filterwarnings('ignore')\n",
    "\n",
    "result_dir = \"/Users/yeong-gwang/Documents/배움 오전 1.38.42/외부/공모전/빅콘테스트/Project/work/ver3_/1012/result/3_가설1분석\"\n",
    "df = pd.read_csv(f\"{result_dir}/클러스터링_결과_완전판.csv\")\n",
    "\n",
    "data_path = \"/Users/yeong-gwang/Documents/배움 오전 1.38.42/외부/공모전/빅콘테스트/Project/work/ver3_/1009/빅콘테스트_전체병합데이터_20251008.csv\"\n",
    "full_df = pd.read_csv(data_path)\n",
    "\n",
    "df = df.merge(full_df[['가맹점구분번호', '좌표정보(X)', '좌표정보(Y)']].drop_duplicates(), on='가맹점구분번호', how='left')\n",
    "\n",
    "df_map = df[df['좌표정보(X)'].notna() & df['좌표정보(Y)'].notna()].copy()\n",
    "print(f\"좌표 데이터: {len(df_map):,}개\")"
   ]
  },
  {
   "cell_type": "markdown",
   "metadata": {},
   "source": [
    "## 좌표 변환 (TM → WGS84)"
   ]
  },
  {
   "cell_type": "code",
   "execution_count": 2,
   "metadata": {},
   "outputs": [
    {
     "name": "stdout",
     "output_type": "stream",
     "text": [
      "지도 중심: (37.552340, 127.040970)\n"
     ]
    }
   ],
   "source": [
    "transformer = Transformer.from_crs(\"EPSG:5174\", \"EPSG:4326\", always_xy=True)\n",
    "coords = transformer.transform(df_map['좌표정보(X)'].values, df_map['좌표정보(Y)'].values)\n",
    "\n",
    "df_map['longitude'] = coords[0]\n",
    "df_map['latitude'] = coords[1]\n",
    "\n",
    "center_lat = df_map['latitude'].median()\n",
    "center_lon = df_map['longitude'].median()\n",
    "print(f\"지도 중심: ({center_lat:.6f}, {center_lon:.6f})\")"
   ]
  },
  {
   "cell_type": "markdown",
   "metadata": {},
   "source": [
    "## 지도 생성 (클러스터별 위험도)"
   ]
  },
  {
   "cell_type": "code",
   "execution_count": 3,
   "metadata": {},
   "outputs": [
    {
     "name": "stdout",
     "output_type": "stream",
     "text": [
      "지도 저장: /Users/yeong-gwang/Documents/배움 오전 1.38.42/외부/공모전/빅콘테스트/Project/work/ver3_/1012/result/3_가설1분석/지도1_클러스터_위험도.html\n"
     ]
    }
   ],
   "source": [
    "m1 = folium.Map(location=[center_lat, center_lon], zoom_start=13, tiles='OpenStreetMap')\n",
    "\n",
    "cluster_colors = {0: '#FF0000', 1: '#00FF00', 2: '#FF6600'}\n",
    "\n",
    "for _, row in df_map.iterrows():\n",
    "    cluster = int(row['cluster'])\n",
    "    color = cluster_colors.get(cluster, '#CCCCCC')\n",
    "    radius = 5 if cluster == 1 else 8\n",
    "    \n",
    "    folium.CircleMarker(\n",
    "        location=[row['latitude'], row['longitude']],\n",
    "        radius=radius,\n",
    "        color=color,\n",
    "        fill=True,\n",
    "        fillColor=color,\n",
    "        fillOpacity=0.6,\n",
    "        popup=f\"Cluster {cluster}<br>{row['상태']}\"\n",
    "    ).add_to(m1)\n",
    "\n",
    "map_path = f\"{result_dir}/지도1_클러스터_위험도.html\"\n",
    "m1.save(map_path)\n",
    "print(f\"지도 저장: {map_path}\")"
   ]
  },
  {
   "cell_type": "markdown",
   "metadata": {},
   "source": [
    "## 종합\n",
    "- 빨간색: 고위험 클러스터\n",
    "- 초록색: 정상 클러스터\n",
    "- 공간적 군집 패턴 확인 가능"
   ]
  }
 ],
 "metadata": {
  "kernelspec": {
   "display_name": "base",
   "language": "python",
   "name": "python3"
  },
  "language_info": {
   "codemirror_mode": {
    "name": "ipython",
    "version": 3
   },
   "file_extension": ".py",
   "mimetype": "text/x-python",
   "name": "python",
   "nbconvert_exporter": "python",
   "pygments_lexer": "ipython3",
   "version": "3.12.7"
  }
 },
 "nbformat": 4,
 "nbformat_minor": 4
}
