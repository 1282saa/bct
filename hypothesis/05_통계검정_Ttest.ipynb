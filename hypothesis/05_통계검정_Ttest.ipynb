{
 "cells": [
  {
   "cell_type": "markdown",
   "metadata": {},
   "source": [
    "# 05. 통계검정 (T-test)\n",
    "\n",
    "## 목적\n",
    "- 고위험 vs 정상 그룹 간 지표군별 차이 검정\n",
    "- Cohen's d로 효과 크기 측정"
   ]
  },
  {
   "cell_type": "code",
   "execution_count": 1,
   "metadata": {},
   "outputs": [
    {
     "name": "stdout",
     "output_type": "stream",
     "text": [
      "그룹별 분포:\n",
      "위험그룹\n",
      "고위험    88578\n",
      "정상       825\n",
      "Name: count, dtype: int64\n"
     ]
    }
   ],
   "source": [
    "import pandas as pd\n",
    "import numpy as np\n",
    "from scipy.stats import ttest_ind\n",
    "\n",
    "result_dir = \"/Users/yeong-gwang/Documents/배움 오전 1.38.42/외부/공모전/빅콘테스트/Project/work/ver3_/1012/result/3_가설1분석\"\n",
    "cluster_result = pd.read_csv(f\"{result_dir}/클러스터링_결과_완전판.csv\")\n",
    "\n",
    "data_path = \"/Users/yeong-gwang/Documents/배움 오전 1.38.42/외부/공모전/빅콘테스트/Project/work/ver3_/1009/빅콘테스트_전체병합데이터_20251008.csv\"\n",
    "df_full = pd.read_csv(data_path)\n",
    "\n",
    "df = cluster_result.merge(df_full, on='가맹점구분번호', how='left')\n",
    "df['위험그룹'] = df['cluster'].map({0: '고위험', 1: '정상', 2: '고위험'})\n",
    "\n",
    "print(f\"그룹별 분포:\")\n",
    "print(df['위험그룹'].value_counts())"
   ]
  },
  {
   "cell_type": "markdown",
   "metadata": {},
   "source": [
    "## T-검정 수행"
   ]
  },
  {
   "cell_type": "code",
   "execution_count": 2,
   "metadata": {},
   "outputs": [
    {
     "name": "stdout",
     "output_type": "stream",
     "text": [
      "\n",
      "[T-검정 결과]\n",
      "          변수        고위험_평균         정상_평균   Cohen_d            p값  유의성\n",
      "0   당월_매출_금액  7.971027e+08  1.065620e+09 -0.130068  2.425822e-03  Yes\n",
      "1   당월_매출_건수  2.952727e+04  3.889582e+04 -0.119335  2.931431e-03  Yes\n",
      "2  배달매출금액 비율  9.404083e+00  2.007321e+01 -0.365095  1.188648e-17  Yes\n"
     ]
    }
   ],
   "source": [
    "# 운영지표 샘플\n",
    "operating_cols = ['당월_매출_금액', '당월_매출_건수', '배달매출금액 비율']\n",
    "existing_cols = [c for c in operating_cols if c in df.columns and pd.api.types.is_numeric_dtype(df[c])]\n",
    "\n",
    "results = []\n",
    "high_risk = df[df['위험그룹'] == '고위험']\n",
    "normal = df[df['위험그룹'] == '정상']\n",
    "\n",
    "for col in existing_cols:\n",
    "    hr_vals = high_risk[col].dropna()\n",
    "    nm_vals = normal[col].dropna()\n",
    "    \n",
    "    if len(hr_vals) >= 30 and len(nm_vals) >= 30:\n",
    "        t_stat, p_value = ttest_ind(hr_vals, nm_vals, equal_var=False)\n",
    "        mean_diff = hr_vals.mean() - nm_vals.mean()\n",
    "        pooled_std = np.sqrt((hr_vals.std()**2 + nm_vals.std()**2) / 2)\n",
    "        cohens_d = mean_diff / pooled_std if pooled_std > 0 else 0\n",
    "        \n",
    "        results.append({\n",
    "            '변수': col,\n",
    "            '고위험_평균': hr_vals.mean(),\n",
    "            '정상_평균': nm_vals.mean(),\n",
    "            'Cohen_d': cohens_d,\n",
    "            'p값': p_value,\n",
    "            '유의성': 'Yes' if p_value < 0.05 else 'No'\n",
    "        })\n",
    "\n",
    "results_df = pd.DataFrame(results)\n",
    "print(\"\\n[T-검정 결과]\")\n",
    "print(results_df)"
   ]
  },
  {
   "cell_type": "markdown",
   "metadata": {},
   "source": [
    "### 통계적 해석\n",
    "- p < 0.05: 통계적으로 유의한 차이\n",
    "- Cohen's d > 0.8: 큰 효과 크기\n",
    "- 고위험 그룹의 특성 파악"
   ]
  }
 ],
 "metadata": {
  "kernelspec": {
   "display_name": "base",
   "language": "python",
   "name": "python3"
  },
  "language_info": {
   "codemirror_mode": {
    "name": "ipython",
    "version": 3
   },
   "file_extension": ".py",
   "mimetype": "text/x-python",
   "name": "python",
   "nbconvert_exporter": "python",
   "pygments_lexer": "ipython3",
   "version": "3.12.7"
  }
 },
 "nbformat": 4,
 "nbformat_minor": 4
}
