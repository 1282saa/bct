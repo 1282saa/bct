{
 "cells": [
  {
   "cell_type": "markdown",
   "metadata": {},
   "source": [
    "# 06. SHAP 분석\n",
    "\n",
    "## 목적\n",
    "- XGBoost 모델로 고위험 예측\n",
    "- SHAP으로 변수 중요도 계산"
   ]
  },
  {
   "cell_type": "code",
   "execution_count": 1,
   "metadata": {},
   "outputs": [
    {
     "name": "stdout",
     "output_type": "stream",
     "text": [
      "고위험: 88,578개\n",
      "정상: 825개\n"
     ]
    }
   ],
   "source": [
    "import pandas as pd\n",
    "import numpy as np\n",
    "from xgboost import XGBClassifier\n",
    "from sklearn.model_selection import train_test_split\n",
    "from sklearn.metrics import roc_auc_score\n",
    "import shap\n",
    "import warnings\n",
    "warnings.filterwarnings('ignore')\n",
    "\n",
    "result_dir = \"/Users/yeong-gwang/Documents/배움 오전 1.38.42/외부/공모전/빅콘테스트/Project/work/ver3_/1012/result/3_가설1분석\"\n",
    "cluster_result = pd.read_csv(f\"{result_dir}/클러스터링_결과_완전판.csv\")\n",
    "\n",
    "data_path = \"/Users/yeong-gwang/Documents/배움 오전 1.38.42/외부/공모전/빅콘테스트/Project/work/ver3_/1009/빅콘테스트_전체병합데이터_20251008.csv\"\n",
    "df_full = pd.read_csv(data_path)\n",
    "\n",
    "df = cluster_result.merge(df_full, on='가맹점구분번호', how='left')\n",
    "df['is_high_risk'] = df['cluster'].apply(lambda x: 1 if x in [0, 2] else 0)\n",
    "\n",
    "print(f\"고위험: {(df['is_high_risk'] == 1).sum():,}개\")\n",
    "print(f\"정상: {(df['is_high_risk'] == 0).sum():,}개\")"
   ]
  },
  {
   "cell_type": "markdown",
   "metadata": {},
   "source": [
    "## XGBoost 모델 학습"
   ]
  },
  {
   "cell_type": "code",
   "execution_count": 2,
   "metadata": {},
   "outputs": [
    {
     "name": "stdout",
     "output_type": "stream",
     "text": [
      "\n",
      "ROC-AUC Score: 0.9655\n"
     ]
    }
   ],
   "source": [
    "# 수치형 변수 선택\n",
    "features = ['당월_매출_금액', '당월_매출_건수', '배달매출금액 비율', '재방문 고객 비중']\n",
    "existing_features = [f for f in features if f in df.columns and pd.api.types.is_numeric_dtype(df[f])]\n",
    "\n",
    "X = df[existing_features].fillna(df[existing_features].median())\n",
    "y = df['is_high_risk']\n",
    "\n",
    "X_train, X_test, y_train, y_test = train_test_split(X, y, test_size=0.2, random_state=42, stratify=y)\n",
    "\n",
    "model = XGBClassifier(n_estimators=100, max_depth=6, learning_rate=0.1, random_state=42, eval_metric='logloss')\n",
    "model.fit(X_train, y_train)\n",
    "\n",
    "y_pred_proba = model.predict_proba(X_test)[:, 1]\n",
    "print(f\"\\nROC-AUC Score: {roc_auc_score(y_test, y_pred_proba):.4f}\")"
   ]
  },
  {
   "cell_type": "markdown",
   "metadata": {},
   "source": [
    "## SHAP 분석"
   ]
  },
  {
   "cell_type": "code",
   "execution_count": 3,
   "metadata": {},
   "outputs": [
    {
     "name": "stdout",
     "output_type": "stream",
     "text": [
      "\n",
      "[SHAP 변수 중요도]\n",
      "          변수  SHAP_importance\n",
      "0   당월_매출_금액         1.006188\n",
      "1   당월_매출_건수         0.808473\n",
      "3  재방문 고객 비중         0.542146\n",
      "2  배달매출금액 비율         0.333572\n"
     ]
    }
   ],
   "source": [
    "explainer = shap.TreeExplainer(model)\n",
    "X_sample = X_test.sample(n=min(1000, len(X_test)), random_state=42)\n",
    "shap_values = explainer.shap_values(X_sample)\n",
    "\n",
    "shap_importance = pd.DataFrame({\n",
    "    '변수': X_sample.columns,\n",
    "    'SHAP_importance': np.abs(shap_values).mean(axis=0)\n",
    "}).sort_values('SHAP_importance', ascending=False)\n",
    "\n",
    "print(\"\\n[SHAP 변수 중요도]\")\n",
    "print(shap_importance)"
   ]
  },
  {
   "cell_type": "markdown",
   "metadata": {},
   "source": [
    "### 해석\n",
    "- SHAP 값이 높을수록 예측에 큰 영향\n",
    "- 폐업 위험 예측의 핵심 변수 파악"
   ]
  }
 ],
 "metadata": {
  "kernelspec": {
   "display_name": "base",
   "language": "python",
   "name": "python3"
  },
  "language_info": {
   "codemirror_mode": {
    "name": "ipython",
    "version": 3
   },
   "file_extension": ".py",
   "mimetype": "text/x-python",
   "name": "python",
   "nbconvert_exporter": "python",
   "pygments_lexer": "ipython3",
   "version": "3.12.7"
  }
 },
 "nbformat": 4,
 "nbformat_minor": 4
}
