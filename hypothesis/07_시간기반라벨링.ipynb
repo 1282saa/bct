{
 "cells": [
  {
   "cell_type": "markdown",
   "metadata": {},
   "source": [
    "# 07. 시간 기반 라벨링\n",
    "\n",
    "## 목적\n",
    "- 폐업까지 남은 개월 수 계산\n",
    "- 5단계 상태 라벨 생성\n",
    "- 조기 경보 시점 분석"
   ]
  },
  {
   "cell_type": "code",
   "execution_count": 1,
   "metadata": {},
   "outputs": [
    {
     "name": "stdout",
     "output_type": "stream",
     "text": [
      "데이터: 86,263개\n"
     ]
    }
   ],
   "source": [
    "import pandas as pd\n",
    "import numpy as np\n",
    "from datetime import datetime\n",
    "import warnings\n",
    "warnings.filterwarnings('ignore')\n",
    "\n",
    "data_path = \"/Users/yeong-gwang/Documents/배움 오전 1.38.42/외부/공모전/빅콘테스트/Project/work/ver3_/1009/빅콘테스트_전체병합데이터_20251008.csv\"\n",
    "df = pd.read_csv(data_path)\n",
    "\n",
    "print(f\"데이터: {len(df):,}개\")"
   ]
  },
  {
   "cell_type": "markdown",
   "metadata": {},
   "source": [
    "## 날짜 변환 및 months_to_close 계산"
   ]
  },
  {
   "cell_type": "code",
   "execution_count": 2,
   "metadata": {},
   "outputs": [
    {
     "name": "stdout",
     "output_type": "stream",
     "text": [
      "\n",
      "폐업 가맹점 months_to_close 통계:\n",
      "count    2334.000000\n",
      "mean       16.006427\n",
      "std         7.757051\n",
      "min         0.000000\n",
      "25%        10.000000\n",
      "50%        16.000000\n",
      "75%        22.000000\n",
      "max        31.000000\n",
      "Name: months_to_close, dtype: float64\n"
     ]
    }
   ],
   "source": [
    "df['기준년월'] = pd.to_datetime(df['기준년월'].astype(str), format='%Y%m')\n",
    "df['폐업일'] = df['폐업일'].apply(lambda x: pd.to_datetime(str(int(x)), format='%Y%m%d', errors='coerce') if pd.notna(x) else pd.NaT)\n",
    "\n",
    "def calculate_months_to_close(row):\n",
    "    if pd.isna(row['폐업일']):\n",
    "        return None\n",
    "    months_diff = (row['폐업일'].year - row['기준년월'].year) * 12 + (row['폐업일'].month - row['기준년월'].month)\n",
    "    return months_diff\n",
    "\n",
    "df['months_to_close'] = df.apply(calculate_months_to_close, axis=1)\n",
    "\n",
    "print(\"\\n폐업 가맹점 months_to_close 통계:\")\n",
    "print(df[df['months_to_close'].notna()]['months_to_close'].describe())"
   ]
  },
  {
   "cell_type": "markdown",
   "metadata": {},
   "source": [
    "## 5단계 라벨링"
   ]
  },
  {
   "cell_type": "code",
   "execution_count": 3,
   "metadata": {},
   "outputs": [
    {
     "name": "stdout",
     "output_type": "stream",
     "text": [
      "\n",
      "상태별 분포:\n",
      "상태\n",
      "D-12m      321\n",
      "D-3m       126\n",
      "D-6m        96\n",
      "D-9m       316\n",
      "정상영업     85404\n",
      "Name: count, dtype: int64\n"
     ]
    }
   ],
   "source": [
    "def label_status(months):\n",
    "    if pd.isna(months):\n",
    "        return '정상영업'\n",
    "    elif months < 0:\n",
    "        return '이미폐업'\n",
    "    elif months <= 3:\n",
    "        return 'D-3m'\n",
    "    elif months <= 6:\n",
    "        return 'D-6m'\n",
    "    elif months <= 9:\n",
    "        return 'D-9m'\n",
    "    elif months <= 12:\n",
    "        return 'D-12m'\n",
    "    else:\n",
    "        return '정상영업'\n",
    "\n",
    "df['상태'] = df['months_to_close'].apply(label_status)\n",
    "\n",
    "print(\"\\n상태별 분포:\")\n",
    "print(df['상태'].value_counts().sort_index())"
   ]
  },
  {
   "cell_type": "markdown",
   "metadata": {},
   "source": [
    "## 상태별 평균 지표 계산"
   ]
  },
  {
   "cell_type": "markdown",
   "metadata": {},
   "source": [
    "### 의미\n",
    "- D-3m: 3개월 내 폐업 예상 → 긴급 개입\n",
    "- D-6m~12m: 조기 경보 단계\n",
    "- 시간 기반 정책 수립 가능"
   ]
  }
 ],
 "metadata": {
  "kernelspec": {
   "display_name": "base",
   "language": "python",
   "name": "python3"
  },
  "language_info": {
   "codemirror_mode": {
    "name": "ipython",
    "version": 3
   },
   "file_extension": ".py",
   "mimetype": "text/x-python",
   "name": "python",
   "nbconvert_exporter": "python",
   "pygments_lexer": "ipython3",
   "version": "3.12.7"
  }
 },
 "nbformat": 4,
 "nbformat_minor": 4
}
