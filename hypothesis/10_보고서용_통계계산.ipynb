{
 "cells": [
  {
   "cell_type": "markdown",
   "metadata": {},
   "source": [
    "# 10. 보고서용 정확한 통계 계산\n",
    "\n",
    "## 목적\n",
    "- 가설1 검증 보고서에 필요한 모든 통계를 정확히 계산\n",
    "- 시간대별 평균 지표 계산\n",
    "- 클러스터별 평균 지표 계산  \n",
    "- 상권별 평균 지표 계산\n",
    "\n",
    "## ⚠️ 데이터 구조 주의사항\n",
    "- **'당월_매출_금액'은 개별 가맹점 매출이 아님**\n",
    "- **상권_코드 × 기준년월 단위의 상권 매출액**\n",
    "- 같은 상권_코드에 속한 모든 가맹점이 동일한 값을 공유\n",
    "- 따라서 \"소속 상권의 월별 평균 매출\"로 해석해야 함\n",
    "\n",
    "---"
   ]
  },
  {
   "cell_type": "markdown",
   "metadata": {},
   "source": [
    "## 1. 데이터 로드 및 전처리"
   ]
  },
  {
   "cell_type": "code",
   "execution_count": 1,
   "metadata": {},
   "outputs": [
    {
     "name": "stdout",
     "output_type": "stream",
     "text": [
      "데이터 형태: (86263, 188)\n",
      "관측치 수: 86,263개\n"
     ]
    }
   ],
   "source": [
    "import pandas as pd\n",
    "import numpy as np\n",
    "import warnings\n",
    "warnings.filterwarnings('ignore')\n",
    "\n",
    "# 원본 데이터 로드\n",
    "data_path = \"/Users/yeong-gwang/Documents/배움 오전 1.38.42/외부/공모전/빅콘테스트/Project/work/ver3_/1009/빅콘테스트_전체병합데이터_20251008.csv\"\n",
    "df = pd.read_csv(data_path)\n",
    "\n",
    "print(f\"데이터 형태: {df.shape}\")\n",
    "print(f\"관측치 수: {len(df):,}개\")"
   ]
  },
  {
   "cell_type": "markdown",
   "metadata": {},
   "source": [
    "## 2. 시간 기반 라벨링"
   ]
  },
  {
   "cell_type": "code",
   "execution_count": 2,
   "metadata": {},
   "outputs": [
    {
     "name": "stdout",
     "output_type": "stream",
     "text": [
      "폐업 가맹점: 2,334개\n"
     ]
    }
   ],
   "source": [
    "# 날짜 변환\n",
    "df['기준년월_dt'] = pd.to_datetime(df['기준년월'].astype(str), format='%Y%m', errors='coerce')\n",
    "\n",
    "# 폐업월 계산\n",
    "def _to_periodM_from_any(s):\n",
    "    s = s.astype(str).str.replace(r'\\.0$', '', regex=True).str.strip()\n",
    "    dt = pd.to_datetime(s, errors='coerce')\n",
    "    return dt.dt.to_period('M')\n",
    "\n",
    "df['_관측월'] = df['기준년월_dt'].dt.to_period('M')\n",
    "df['_폐업월'] = _to_periodM_from_any(df['폐업일'])\n",
    "\n",
    "# 개월차 계산\n",
    "y1, m1 = df['_폐업월'].dt.year, df['_폐업월'].dt.month\n",
    "y0, m0 = df['_관측월'].dt.year, df['_관측월'].dt.month\n",
    "df['_months_to_close'] = (y1 - y0) * 12 + (m1 - m0)\n",
    "\n",
    "print(f\"폐업 가맹점: {df['_폐업월'].notna().sum():,}개\")"
   ]
  },
  {
   "cell_type": "code",
   "execution_count": 3,
   "metadata": {},
   "outputs": [
    {
     "name": "stdout",
     "output_type": "stream",
     "text": [
      "정상영업: 4,043개\n",
      "D-12m: 105개\n",
      "D-9m: 113개\n",
      "D-6m: 32개\n",
      "D-3m: 32개\n",
      "\n",
      "통합 데이터: 4,325개\n"
     ]
    }
   ],
   "source": [
    "# 정상영업: 한번도 폐업 기록 없는 가맹점의 최신 데이터\n",
    "closed_any = df.groupby('가맹점구분번호')['_폐업월'].transform(lambda s: s.notna().any())\n",
    "normal_latest = (df[~closed_any]\n",
    "                 .sort_values(['가맹점구분번호', '기준년월_dt'])\n",
    "                 .groupby('가맹점구분번호', as_index=False)\n",
    "                 .tail(1)\n",
    "                 .assign(상태='정상영업'))\n",
    "\n",
    "print(f\"정상영업: {len(normal_latest):,}개\")\n",
    "\n",
    "# 폐업 D-k: 각 가맹점에서 정확히 D-k 개월 전 스냅샷 1건\n",
    "def _pick_preclose(k):\n",
    "    sub = df[df['_months_to_close'].eq(k)].copy()\n",
    "    if sub.empty:\n",
    "        return sub.assign(상태=f'D-{k}m')\n",
    "    sub = (sub.sort_values(['가맹점구분번호', '기준년월_dt'])\n",
    "              .groupby('가맹점구분번호', as_index=False)\n",
    "              .tail(1))\n",
    "    sub['상태'] = f'D-{k}m'\n",
    "    return sub\n",
    "\n",
    "d12 = _pick_preclose(12)\n",
    "d9 = _pick_preclose(9)\n",
    "d6 = _pick_preclose(6)\n",
    "d3 = _pick_preclose(3)\n",
    "\n",
    "print(f\"D-12m: {len(d12):,}개\")\n",
    "print(f\"D-9m: {len(d9):,}개\")\n",
    "print(f\"D-6m: {len(d6):,}개\")\n",
    "print(f\"D-3m: {len(d3):,}개\")\n",
    "\n",
    "# 통합\n",
    "ana = pd.concat([normal_latest, d12, d9, d6, d3], ignore_index=True)\n",
    "\n",
    "print(f\"\\n통합 데이터: {len(ana):,}개\")"
   ]
  },
  {
   "cell_type": "markdown",
   "metadata": {},
   "source": [
    "## 3. 시간대별 평균 지표 계산\n",
    "\n",
    "### 📌 해석 주의\n",
    "- **'소속_상권_매출_억원'**: 해당 가맹점이 속한 상권의 월별 매출액 평균 (개별 가맹점 매출 아님)\n",
    "- **'1km내_지하철승하차'**: 가맹점 1km 반경 내 지하철 승하차 인원"
   ]
  },
  {
   "cell_type": "code",
   "execution_count": 4,
   "metadata": {},
   "outputs": [
    {
     "name": "stdout",
     "output_type": "stream",
     "text": [
      "================================================================================\n",
      "시간대별 평균 지표\n",
      "================================================================================\n",
      "       가맹점수  소속_상권_매출_억원   상권_매출건수   배달비율  1km내_지하철승하차\n",
      "상태                                                    \n",
      "D-12m   105         5.86  17095.17  15.64   4808731.99\n",
      "D-3m     32        10.08  40291.80  25.12   5010425.94\n",
      "D-6m     32         9.21  31400.24  15.88   5067467.28\n",
      "D-9m    113         7.01  22395.81  14.67   4772424.33\n",
      "정상영업   4043         8.14  30363.04  10.47   4648461.80\n",
      "\n",
      "📌 해석:\n",
      "- '소속_상권_매출_억원': 가맹점이 속한 상권의 월별 매출액 평균 (개별 가맹점 매출 아님)\n",
      "- '1km내_지하철승하차': 가맹점 중심 1km 반경 내 월별 누적 승하차 인원\n",
      "\n",
      "정상영업 배달비율: 10.47%\n",
      "\n",
      "정상영업 대비 배달비율 배수:\n",
      "  D-12m: 1.49배\n",
      "  D-3m: 2.40배\n",
      "  D-6m: 1.52배\n",
      "  D-9m: 1.40배\n"
     ]
    }
   ],
   "source": [
    "# 시간대별 주요 지표 평균 계산\n",
    "time_stats = ana.groupby('상태').agg({\n",
    "    '당월_매출_금액': 'mean',\n",
    "    '당월_매출_건수': 'mean',\n",
    "    '배달매출금액 비율': 'mean',\n",
    "    '1km내_총지하철승하차': 'mean',\n",
    "    '가맹점구분번호': 'count'\n",
    "}).round(2)\n",
    "\n",
    "time_stats.columns = ['소속_상권_매출_원', '상권_매출건수', '배달비율', '1km내_지하철승하차', '가맹점수']\n",
    "\n",
    "# 억원 단위 추가\n",
    "time_stats['소속_상권_매출_억원'] = (time_stats['소속_상권_매출_원'] / 100000000).round(2)\n",
    "\n",
    "print(\"=\"*80)\n",
    "print(\"시간대별 평균 지표\")\n",
    "print(\"=\"*80)\n",
    "print(time_stats[['가맹점수', '소속_상권_매출_억원', '상권_매출건수', '배달비율', '1km내_지하철승하차']])\n",
    "\n",
    "print(\"\\n📌 해석:\")\n",
    "print(\"- '소속_상권_매출_억원': 가맹점이 속한 상권의 월별 매출액 평균 (개별 가맹점 매출 아님)\")\n",
    "print(\"- '1km내_지하철승하차': 가맹점 중심 1km 반경 내 월별 누적 승하차 인원\")\n",
    "\n",
    "# 정상 대비 배수 계산\n",
    "if '정상영업' in time_stats.index:\n",
    "    normal_delivery = time_stats.loc['정상영업', '배달비율']\n",
    "    print(f\"\\n정상영업 배달비율: {normal_delivery:.2f}%\")\n",
    "    print(\"\\n정상영업 대비 배달비율 배수:\")\n",
    "    for status in time_stats.index:\n",
    "        if status != '정상영업':\n",
    "            ratio = time_stats.loc[status, '배달비율'] / normal_delivery\n",
    "            print(f\"  {status}: {ratio:.2f}배\")"
   ]
  },
  {
   "cell_type": "markdown",
   "metadata": {},
   "source": [
    "## 4. 클러스터 정보 병합"
   ]
  },
  {
   "cell_type": "code",
   "execution_count": 5,
   "metadata": {},
   "outputs": [
    {
     "name": "stdout",
     "output_type": "stream",
     "text": [
      "클러스터 정보 병합 완료: 4,773개\n",
      "\n",
      "클러스터별 분포:\n",
      "cluster\n",
      "0    4125\n",
      "1     200\n",
      "2     448\n",
      "Name: count, dtype: int64\n"
     ]
    }
   ],
   "source": [
    "# 클러스터링 결과 로드\n",
    "cluster_path = \"/Users/yeong-gwang/Documents/배움 오전 1.38.42/외부/공모전/빅콘테스트/Project/work/ver3_/1012/result/3_가설1분석/클러스터링_결과_완전판.csv\"\n",
    "cluster_df = pd.read_csv(cluster_path)\n",
    "\n",
    "# 병합\n",
    "ana_with_cluster = ana.merge(cluster_df[['가맹점구분번호', 'cluster']], on='가맹점구분번호', how='left')\n",
    "\n",
    "print(f\"클러스터 정보 병합 완료: {len(ana_with_cluster):,}개\")\n",
    "print(f\"\\n클러스터별 분포:\")\n",
    "print(ana_with_cluster['cluster'].value_counts().sort_index())"
   ]
  },
  {
   "cell_type": "markdown",
   "metadata": {},
   "source": [
    "## 5. 클러스터별 평균 지표 계산"
   ]
  },
  {
   "cell_type": "code",
   "execution_count": 6,
   "metadata": {},
   "outputs": [
    {
     "name": "stdout",
     "output_type": "stream",
     "text": [
      "================================================================================\n",
      "클러스터별 평균 지표\n",
      "================================================================================\n",
      "         가맹점수  소속_상권_매출_억원  1km내_지하철승하차   배달비율  남성60대이상  여성20대이하  여성30대\n",
      "cluster                                                                \n",
      "0        4125         8.10   4659073.56  10.63     9.38    10.58  11.82\n",
      "1         200        11.81   4931418.70  19.33     5.75    12.06  10.96\n",
      "2         448         5.49   4799417.20  14.87     5.54    14.25  13.31\n",
      "\n",
      "📌 해석:\n",
      "- '소속_상권_매출_억원': 클러스터 내 가맹점들이 속한 상권의 평균 매출\n",
      "\n",
      "클러스터 0 대비 비율:\n",
      "\n",
      "1km내_지하철승하차:\n",
      "  클러스터 1: 1.06배\n",
      "  클러스터 2: 1.03배\n",
      "\n",
      "배달비율:\n",
      "  클러스터 1: 1.82배\n",
      "  클러스터 2: 1.40배\n"
     ]
    }
   ],
   "source": [
    "# 클러스터별 주요 지표 평균\n",
    "cluster_stats = ana_with_cluster.groupby('cluster').agg({\n",
    "    '가맹점구분번호': 'count',\n",
    "    '당월_매출_금액': 'mean',\n",
    "    '1km내_총지하철승하차': 'mean',\n",
    "    '배달매출금액 비율': 'mean',\n",
    "    '남성 60대이상 고객 비중': 'mean',\n",
    "    '여성 20대이하 고객 비중': 'mean',\n",
    "    '남성 20대이하 고객 비중': 'mean',\n",
    "    '여성 30대 고객 비중': 'mean',\n",
    "    '남성 50대 고객 비중': 'mean'\n",
    "}).round(2)\n",
    "\n",
    "cluster_stats.columns = ['가맹점수', '소속_상권_매출_원', '1km내_지하철승하차', '배달비율', \n",
    "                          '남성60대이상', '여성20대이하', '남성20대이하', '여성30대', '남성50대']\n",
    "\n",
    "# 억원 단위 추가\n",
    "cluster_stats['소속_상권_매출_억원'] = (cluster_stats['소속_상권_매출_원'] / 100000000).round(2)\n",
    "\n",
    "print(\"=\"*80)\n",
    "print(\"클러스터별 평균 지표\")\n",
    "print(\"=\"*80)\n",
    "print(cluster_stats[['가맹점수', '소속_상권_매출_억원', '1km내_지하철승하차', '배달비율', \n",
    "                      '남성60대이상', '여성20대이하', '여성30대']])\n",
    "\n",
    "print(\"\\n📌 해석:\")\n",
    "print(\"- '소속_상권_매출_억원': 클러스터 내 가맹점들이 속한 상권의 평균 매출\")\n",
    "\n",
    "# 클러스터 0 대비 배수 계산\n",
    "if 0 in cluster_stats.index:\n",
    "    print(\"\\n클러스터 0 대비 비율:\")\n",
    "    for col in ['1km내_지하철승하차', '배달비율']:\n",
    "        base_val = cluster_stats.loc[0, col]\n",
    "        print(f\"\\n{col}:\")\n",
    "        for idx in cluster_stats.index:\n",
    "            if idx != 0:\n",
    "                ratio = cluster_stats.loc[idx, col] / base_val\n",
    "                print(f\"  클러스터 {int(idx)}: {ratio:.2f}배\")"
   ]
  },
  {
   "cell_type": "markdown",
   "metadata": {},
   "source": [
    "## 6. 상권별 평균 지표 계산\n",
    "\n",
    "### 📌 주의\n",
    "- \"상권\" 컬럼: 지역명 (예: 성수, 뚝섬)\n",
    "- 하나의 지역명 안에 여러 상권_코드가 존재할 수 있음"
   ]
  },
  {
   "cell_type": "code",
   "execution_count": 7,
   "metadata": {},
   "outputs": [
    {
     "name": "stdout",
     "output_type": "stream",
     "text": [
      "================================================================================\n",
      "상권별 평균 지표\n",
      "================================================================================\n",
      "        가맹점수  1km내_지하철승하차  배달비율  남성60대이상  20-30대비중\n",
      "상권                                                \n",
      "금남시장     400    2320557.0  21.0     12.0      20.0\n",
      "답십리      213    1700884.0  10.0     12.0      27.0\n",
      "뚝섬       657    3090959.0   8.0      5.0      47.0\n",
      "마장동      449    6549700.0   3.0     18.0      13.0\n",
      "성수      1128    3674398.0   6.0      7.0      42.0\n",
      "신금호      138    3223901.0  18.0     12.0      19.0\n",
      "옥수       152    1702476.0  14.0      9.0      24.0\n",
      "왕십리     1043    7130234.0  19.0      9.0      28.0\n",
      "장한평자동차    55    1307942.0   9.0     17.0      20.0\n",
      "한양대      426    7544560.0  10.0      3.0      59.0\n",
      "행당       112    4659514.0  19.0      8.0      21.0\n",
      "\n",
      "주요 상권:\n",
      "\n",
      "성수:\n",
      "  - 1km내 지하철승하차: 3,674,398명\n",
      "  - 배달비율: 6%\n",
      "  - 20-30대 비중: 42%\n",
      "\n",
      "뚝섬:\n",
      "  - 1km내 지하철승하차: 3,090,959명\n",
      "  - 배달비율: 8%\n",
      "  - 20-30대 비중: 47%\n",
      "\n",
      "왕십리:\n",
      "  - 1km내 지하철승하차: 7,130,234명\n",
      "  - 배달비율: 19%\n",
      "  - 20-30대 비중: 28%\n",
      "\n",
      "한양대:\n",
      "  - 1km내 지하철승하차: 7,544,560명\n",
      "  - 배달비율: 10%\n",
      "  - 20-30대 비중: 59%\n",
      "\n",
      "마장동:\n",
      "  - 1km내 지하철승하차: 6,549,700명\n",
      "  - 배달비율: 3%\n",
      "  - 20-30대 비중: 13%\n",
      "\n",
      "금남시장:\n",
      "  - 1km내 지하철승하차: 2,320,557명\n",
      "  - 배달비율: 21%\n",
      "  - 20-30대 비중: 20%\n"
     ]
    }
   ],
   "source": [
    "# 상권별 전체 평균\n",
    "region_stats = ana_with_cluster.groupby('상권').agg({\n",
    "    '가맹점구분번호': 'count',\n",
    "    '1km내_총지하철승하차': 'mean',\n",
    "    '배달매출금액 비율': 'mean',\n",
    "    '남성 60대이상 고객 비중': 'mean',\n",
    "    '여성 20대이하 고객 비중': 'mean',\n",
    "    '남성 20대이하 고객 비중': 'mean',\n",
    "    '여성 30대 고객 비중': 'mean'\n",
    "}).round(0)\n",
    "\n",
    "region_stats.columns = ['가맹점수', '1km내_지하철승하차', '배달비율', \n",
    "                         '남성60대이상', '여성20대이하', '남성20대이하', '여성30대']\n",
    "\n",
    "# 20-30대 비중 합계\n",
    "region_stats['20-30대비중'] = (region_stats['여성20대이하'] + \n",
    "                              region_stats['남성20대이하'] + \n",
    "                              region_stats['여성30대']).round(0)\n",
    "\n",
    "print(\"=\"*80)\n",
    "print(\"상권별 평균 지표\")\n",
    "print(\"=\"*80)\n",
    "print(region_stats[['가맹점수', '1km내_지하철승하차', '배달비율', '남성60대이상', '20-30대비중']])\n",
    "\n",
    "print(\"\\n주요 상권:\")\n",
    "for region in ['성수', '뚝섬', '왕십리', '한양대', '마장동', '금남시장']:\n",
    "    if region in region_stats.index:\n",
    "        print(f\"\\n{region}:\")\n",
    "        print(f\"  - 1km내 지하철승하차: {region_stats.loc[region, '1km내_지하철승하차']:,.0f}명\")\n",
    "        print(f\"  - 배달비율: {region_stats.loc[region, '배달비율']:.0f}%\")\n",
    "        print(f\"  - 20-30대 비중: {region_stats.loc[region, '20-30대비중']:.0f}%\")"
   ]
  },
  {
   "cell_type": "markdown",
   "metadata": {},
   "source": [
    "## 7. 상권별 × 클러스터별 교차 분석"
   ]
  },
  {
   "cell_type": "code",
   "execution_count": 8,
   "metadata": {},
   "outputs": [
    {
     "name": "stdout",
     "output_type": "stream",
     "text": [
      "================================================================================\n",
      "상권별 클러스터 분포 (%)\n",
      "================================================================================\n",
      "cluster     0     1     2\n",
      "상권                       \n",
      "금남시장     84.2   6.0   9.8\n",
      "답십리      84.5   4.7  10.8\n",
      "뚝섬       89.5   2.1   8.4\n",
      "마장동      87.5   7.1   5.3\n",
      "성수       88.7   2.6   8.7\n",
      "신금호      78.3   0.0  21.7\n",
      "옥수       97.4   0.0   2.6\n",
      "왕십리      83.3   5.9  10.7\n",
      "장한평자동차   80.0  16.4   3.6\n",
      "한양대      83.3   4.7  12.0\n",
      "행당       91.1   0.0   8.9\n",
      "All      86.4   4.2   9.4\n",
      "\n",
      "고위험 비율 (클러스터 1+2):\n",
      "cluster  고위험    전체  고위험비율\n",
      "상권                       \n",
      "신금호       30   168   17.9\n",
      "장한평자동차    11    66   16.7\n",
      "왕십리      174  1217   14.3\n",
      "한양대       71   497   14.3\n",
      "금남시장      63   463   13.6\n",
      "답십리       33   246   13.4\n",
      "마장동       56   505   11.1\n",
      "성수       127  1255   10.1\n",
      "뚝섬        69   726    9.5\n",
      "행당        10   122    8.2\n",
      "옥수         4   156    2.6\n"
     ]
    }
   ],
   "source": [
    "# 상권별 클러스터 분포\n",
    "region_cluster_dist = pd.crosstab(ana_with_cluster['상권'], \n",
    "                                   ana_with_cluster['cluster'], \n",
    "                                   margins=True,\n",
    "                                   normalize='index') * 100\n",
    "\n",
    "region_cluster_dist = region_cluster_dist.round(1)\n",
    "\n",
    "print(\"=\"*80)\n",
    "print(\"상권별 클러스터 분포 (%)\")\n",
    "print(\"=\"*80)\n",
    "print(region_cluster_dist)\n",
    "\n",
    "# 고위험 비율 계산 (클러스터 1, 2)\n",
    "print(\"\\n고위험 비율 (클러스터 1+2):\")\n",
    "region_cluster_count = pd.crosstab(ana_with_cluster['상권'], ana_with_cluster['cluster'])\n",
    "region_cluster_count['고위험'] = region_cluster_count.get(1, 0) + region_cluster_count.get(2, 0)\n",
    "region_cluster_count['전체'] = region_cluster_count.sum(axis=1)\n",
    "region_cluster_count['고위험비율'] = (region_cluster_count['고위험'] / region_cluster_count['전체'] * 100).round(1)\n",
    "\n",
    "print(region_cluster_count[['고위험', '전체', '고위험비율']].sort_values('고위험비율', ascending=False))"
   ]
  },
  {
   "cell_type": "markdown",
   "metadata": {},
   "source": [
    "## 8. 결과 저장"
   ]
  },
  {
   "cell_type": "code",
   "execution_count": 9,
   "metadata": {},
   "outputs": [
    {
     "name": "stdout",
     "output_type": "stream",
     "text": [
      "결과 저장 완료:\n",
      "  - /Users/yeong-gwang/Documents/배움 오전 1.38.42/외부/공모전/빅콘테스트/Project/work/ver3_/1012/result/5_보고서통계/시간대별_평균지표.csv\n",
      "  - /Users/yeong-gwang/Documents/배움 오전 1.38.42/외부/공모전/빅콘테스트/Project/work/ver3_/1012/result/5_보고서통계/클러스터별_평균지표.csv\n",
      "  - /Users/yeong-gwang/Documents/배움 오전 1.38.42/외부/공모전/빅콘테스트/Project/work/ver3_/1012/result/5_보고서통계/상권별_평균지표.csv\n",
      "  - /Users/yeong-gwang/Documents/배움 오전 1.38.42/외부/공모전/빅콘테스트/Project/work/ver3_/1012/result/5_보고서통계/상권별_클러스터분포.csv\n"
     ]
    }
   ],
   "source": [
    "import os\n",
    "\n",
    "output_dir = \"/Users/yeong-gwang/Documents/배움 오전 1.38.42/외부/공모전/빅콘테스트/Project/work/ver3_/1012/result/5_보고서통계\"\n",
    "os.makedirs(output_dir, exist_ok=True)\n",
    "\n",
    "# 저장\n",
    "time_stats.to_csv(f\"{output_dir}/시간대별_평균지표.csv\", encoding='utf-8-sig')\n",
    "cluster_stats.to_csv(f\"{output_dir}/클러스터별_평균지표.csv\", encoding='utf-8-sig')\n",
    "region_stats.to_csv(f\"{output_dir}/상권별_평균지표.csv\", encoding='utf-8-sig')\n",
    "region_cluster_count.to_csv(f\"{output_dir}/상권별_클러스터분포.csv\", encoding='utf-8-sig')\n",
    "\n",
    "print(\"결과 저장 완료:\")\n",
    "print(f\"  - {output_dir}/시간대별_평균지표.csv\")\n",
    "print(f\"  - {output_dir}/클러스터별_평균지표.csv\")\n",
    "print(f\"  - {output_dir}/상권별_평균지표.csv\")\n",
    "print(f\"  - {output_dir}/상권별_클러스터분포.csv\")"
   ]
  },
  {
   "cell_type": "markdown",
   "metadata": {},
   "source": [
    "## 종합 요약\n",
    "\n",
    "### 계산된 주요 지표\n",
    "\n",
    "1. **시간대별 평균**:\n",
    "   - 정상영업, D-12m, D-9m, D-6m, D-3m별 소속 상권 매출, 배달비율, 지하철승하차\n",
    "   \n",
    "2. **클러스터별 평균**:\n",
    "   - 클러스터 0, 1, 2별 주요 지표\n",
    "   - 고객 연령대 비중\n",
    "   \n",
    "3. **상권별 평균**:\n",
    "   - 11개 상권별 접근성, 배달비율, 고객 특성\n",
    "   - 고위험 비율\n",
    "\n",
    "### 데이터 해석 주의사항\n",
    "\n",
    "#### ✅ 정확한 해석:\n",
    "- **'소속_상권_매출_억원'**: 가맹점이 속한 상권(상권_코드)의 월별 매출액\n",
    "  - 같은 상권에 속한 모든 가맹점은 동일한 값을 가짐\n",
    "  - 개별 가맹점의 실제 매출이 아님\n",
    "\n",
    "#### ❌ 잘못된 해석:\n",
    "- \"가맹점의 평균 매출이 8억원이다\" ← 틀림\n",
    "- \"개별 가맹점이 월 8억원을 벌어들인다\" ← 틀림\n",
    "\n",
    "#### ✅ 올바른 해석:\n",
    "- \"정상 가맹점들이 속한 상권의 월별 평균 매출은 8.14억원이다\"\n",
    "- \"D-3m 가맹점들이 속한 상권의 월별 평균 매출은 10.08억원이다\"\n",
    "\n",
    "### 활용\n",
    "- 보고서 작성 시 이 노트북의 출력 결과를 정확히 인용\n",
    "- 모든 수치는 실제 계산 결과 기반\n",
    "- 데이터 해석 시 항상 \"소속 상권\"임을 명시\n",
    "\n",
    "---"
   ]
  }
 ],
 "metadata": {
  "kernelspec": {
   "display_name": "base",
   "language": "python",
   "name": "python3"
  },
  "language_info": {
   "codemirror_mode": {
    "name": "ipython",
    "version": 3
   },
   "file_extension": ".py",
   "mimetype": "text/x-python",
   "name": "python",
   "nbconvert_exporter": "python",
   "pygments_lexer": "ipython3",
   "version": "3.12.7"
  }
 },
 "nbformat": 4,
 "nbformat_minor": 2
}
