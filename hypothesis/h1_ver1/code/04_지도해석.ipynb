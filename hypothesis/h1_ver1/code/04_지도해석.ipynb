{
 "cells": [
  {
   "cell_type": "markdown",
   "metadata": {},
   "source": [
    "# 04. 지도 해석 및 정책 우선순위\n",
    "\n",
    "## 목적\n",
    "- 지역별 위험도 집계\n",
    "- 정책 우선순위 지역 도출"
   ]
  },
  {
   "cell_type": "code",
   "execution_count": 1,
   "metadata": {},
   "outputs": [
    {
     "name": "stdout",
     "output_type": "stream",
     "text": [
      "데이터: 4,325개\n"
     ]
    }
   ],
   "source": [
    "import pandas as pd\n",
    "\n",
    "result_dir = \"/Users/yeong-gwang/Documents/배움 오전 1.38.42/외부/공모전/빅콘테스트/Project/work/ver3_/1012/result/3_가설1분석\"\n",
    "df = pd.read_csv(f\"{result_dir}/클러스터링_결과_완전판.csv\")\n",
    "\n",
    "data_path = \"/Users/yeong-gwang/Documents/배움 오전 1.38.42/외부/공모전/빅콘테스트/Project/work/ver3_/1009/빅콘테스트_전체병합데이터_20251008.csv\"\n",
    "full_df = pd.read_csv(data_path)\n",
    "\n",
    "df = df.merge(full_df[['가맹점구분번호', '지역명', '상권_코드_명']].drop_duplicates(), on='가맹점구분번호', how='left')\n",
    "\n",
    "print(f\"데이터: {len(df):,}개\")"
   ]
  },
  {
   "cell_type": "markdown",
   "metadata": {},
   "source": [
    "## 지역별 위험도 분석"
   ]
  },
  {
   "cell_type": "code",
   "execution_count": 2,
   "metadata": {},
   "outputs": [
    {
     "name": "stdout",
     "output_type": "stream",
     "text": [
      "[지역별 위험도 TOP 10]\n",
      "   지역명  총가맹점수  고위험_수    고위험_비율  D3m_수\n",
      "1  약수역    150    150  1.000000      0\n",
      "0   뚝섬   1649   1635  0.991510      8\n",
      "2  왕십리   1519   1495  0.984200     14\n",
      "4  청량리    769    753  0.979194      6\n",
      "3  장안동    238    231  0.970588      4\n"
     ]
    }
   ],
   "source": [
    "region_stats = df.groupby('지역명').agg(\n",
    "    총가맹점수=('가맹점구분번호', 'count'),\n",
    "    클러스터0_수=('cluster', lambda x: (x == 0).sum()),\n",
    "    클러스터2_수=('cluster', lambda x: (x == 2).sum()),\n",
    "    D3m_수=('상태', lambda x: (x == 'D-3m').sum())\n",
    ").reset_index()\n",
    "\n",
    "region_stats['고위험_수'] = region_stats['클러스터0_수'] + region_stats['클러스터2_수']\n",
    "region_stats['고위험_비율'] = region_stats['고위험_수'] / region_stats['총가맹점수']\n",
    "\n",
    "region_stats = region_stats.sort_values('고위험_비율', ascending=False)\n",
    "\n",
    "print(\"[지역별 위험도 TOP 10]\")\n",
    "print(region_stats[['지역명', '총가맹점수', '고위험_수', '고위험_비율', 'D3m_수']].head(10))"
   ]
  },
  {
   "cell_type": "markdown",
   "metadata": {},
   "source": [
    "### 정책적 시사점\n",
    "- 고위험 비율이 높은 지역: 집중 지원 필요\n",
    "- D-3m 가맹점: 긴급 개입 대상"
   ]
  }
 ],
 "metadata": {
  "kernelspec": {
   "display_name": "base",
   "language": "python",
   "name": "python3"
  },
  "language_info": {
   "codemirror_mode": {
    "name": "ipython",
    "version": 3
   },
   "file_extension": ".py",
   "mimetype": "text/x-python",
   "name": "python",
   "nbconvert_exporter": "python",
   "pygments_lexer": "ipython3",
   "version": "3.12.7"
  }
 },
 "nbformat": 4,
 "nbformat_minor": 4
}
