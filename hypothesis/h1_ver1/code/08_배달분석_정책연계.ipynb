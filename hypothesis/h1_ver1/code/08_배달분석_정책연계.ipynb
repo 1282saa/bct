{
 "cells": [
  {
   "cell_type": "markdown",
   "metadata": {},
   "source": [
    "# 08. 배달 분석 + 성동땡겨요 정책\n",
    "\n",
    "## 목적\n",
    "- 배달 활용도별 폐업률 분석\n",
    "- 땡겨요 입점 타겟 식별\n",
    "- 정책 효과 시뮬레이션"
   ]
  },
  {
   "cell_type": "code",
   "execution_count": 1,
   "metadata": {},
   "outputs": [
    {
     "name": "stdout",
     "output_type": "stream",
     "text": [
      "데이터: 89,412개\n"
     ]
    }
   ],
   "source": [
    "import pandas as pd\n",
    "import numpy as np\n",
    "\n",
    "labeled_data_path = \"/Users/yeong-gwang/Documents/배움 오전 1.38.42/외부/공모전/빅콘테스트/Project/work/ver3_/1012/result/1_시간라벨링/labeled_data.csv\"\n",
    "df = pd.read_csv(labeled_data_path)\n",
    "\n",
    "cluster_path = \"/Users/yeong-gwang/Documents/배움 오전 1.38.42/외부/공모전/빅콘테스트/Project/work/ver3_/1012/result/3_가설1분석/클러스터링_결과_완전판.csv\"\n",
    "cluster_df = pd.read_csv(cluster_path)\n",
    "\n",
    "df = df.merge(cluster_df[['가맹점구분번호', 'cluster']], on='가맹점구분번호', how='left')\n",
    "df['위험그룹'] = df['cluster'].apply(lambda x: '고위험' if x in [0, 2] else '정상' if x == 1 else '알수없음')\n",
    "\n",
    "print(f\"데이터: {len(df):,}개\")"
   ]
  },
  {
   "cell_type": "markdown",
   "metadata": {},
   "source": [
    "## 배달 활용도 분류"
   ]
  },
  {
   "cell_type": "code",
   "execution_count": 2,
   "metadata": {},
   "outputs": [
    {
     "name": "stdout",
     "output_type": "stream",
     "text": [
      "\n",
      "[배달 활용도 그룹별 분포]\n",
      "배달활용도그룹\n",
      "고활용 (50%+)       6995\n",
      "미활용 (0%)        62892\n",
      "저활용 (1-20%)     13186\n",
      "중활용 (21-50%)     6339\n",
      "Name: count, dtype: int64\n"
     ]
    }
   ],
   "source": [
    "if '배달매출금액 비율' in df.columns:\n",
    "    배달비율 = df['배달매출금액 비율'].fillna(0)\n",
    "    \n",
    "    def classify_delivery_usage(ratio):\n",
    "        if ratio == 0:\n",
    "            return '미활용 (0%)'\n",
    "        elif ratio <= 20:\n",
    "            return '저활용 (1-20%)'\n",
    "        elif ratio <= 50:\n",
    "            return '중활용 (21-50%)'\n",
    "        else:\n",
    "            return '고활용 (50%+)'\n",
    "    \n",
    "    df['배달활용도그룹'] = 배달비율.apply(classify_delivery_usage)\n",
    "    print(\"\\n[배달 활용도 그룹별 분포]\")\n",
    "    print(df['배달활용도그룹'].value_counts().sort_index())"
   ]
  },
  {
   "cell_type": "markdown",
   "metadata": {},
   "source": [
    "## 배달 활용도별 폐업률"
   ]
  },
  {
   "cell_type": "code",
   "execution_count": 3,
   "metadata": {},
   "outputs": [
    {
     "name": "stdout",
     "output_type": "stream",
     "text": [
      "\n",
      "[배달 활용도별 폐업률]\n",
      "               폐업수     폐업률   가맹점수\n",
      "배달활용도그룹                          \n",
      "고활용 (50%+)     794  0.1135   6995\n",
      "저활용 (1-20%)    951  0.0721  13186\n",
      "중활용 (21-50%)   360  0.0568   6339\n",
      "미활용 (0%)      3378  0.0537  62892\n"
     ]
    }
   ],
   "source": [
    "df['is_closed'] = df['폐업일'].notna().astype(int)\n",
    "\n",
    "group_closure = df.groupby('배달활용도그룹').agg({\n",
    "    'is_closed': ['sum', 'mean', 'count']\n",
    "}).round(4)\n",
    "\n",
    "group_closure.columns = ['폐업수', '폐업률', '가맹점수']\n",
    "group_closure = group_closure.sort_values('폐업률', ascending=False)\n",
    "\n",
    "print(\"\\n[배달 활용도별 폐업률]\")\n",
    "print(group_closure)"
   ]
  },
  {
   "cell_type": "markdown",
   "metadata": {},
   "source": [
    "## 땡겨요 타겟 식별"
   ]
  },
  {
   "cell_type": "code",
   "execution_count": 4,
   "metadata": {},
   "outputs": [
    {
     "name": "stdout",
     "output_type": "stream",
     "text": [
      "\n",
      "땡겨요 입점 타겟: 62,346개\n",
      "전체 대비 비율: 69.73%\n"
     ]
    }
   ],
   "source": [
    "target_df = df[(df['배달활용도그룹'] == '미활용 (0%)') & (df['위험그룹'] == '고위험')].copy()\n",
    "\n",
    "print(f\"\\n땡겨요 입점 타겟: {len(target_df):,}개\")\n",
    "print(f\"전체 대비 비율: {len(target_df) / len(df) * 100:.2f}%\")"
   ]
  },
  {
   "cell_type": "markdown",
   "metadata": {},
   "source": [
    "### 정책적 의미\n",
    "- 배달 미활용 + 고위험: 땡겨요 입점으로 개선 가능\n",
    "- 수수료 2% 절감 + 15% 할인 효과 기대"
   ]
  }
 ],
 "metadata": {
  "kernelspec": {
   "display_name": "base",
   "language": "python",
   "name": "python3"
  },
  "language_info": {
   "codemirror_mode": {
    "name": "ipython",
    "version": 3
   },
   "file_extension": ".py",
   "mimetype": "text/x-python",
   "name": "python",
   "nbconvert_exporter": "python",
   "pygments_lexer": "ipython3",
   "version": "3.12.7"
  }
 },
 "nbformat": 4,
 "nbformat_minor": 4
}
