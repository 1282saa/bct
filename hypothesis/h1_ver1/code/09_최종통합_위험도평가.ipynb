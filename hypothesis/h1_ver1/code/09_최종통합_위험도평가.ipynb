{
 "cells": [
  {
   "cell_type": "markdown",
   "metadata": {},
   "source": [
    "# 09. 최종 통합 위험도 평가\n",
    "\n",
    "## 목적\n",
    "- 클러스터링 + 시간라벨 + 배달분석 통합\n",
    "- 최종 위험도 스코어 계산 (0-100점)\n",
    "- 타겟별 맞춤 정책 제안"
   ]
  },
  {
   "cell_type": "code",
   "execution_count": 1,
   "metadata": {},
   "outputs": [
    {
     "name": "stdout",
     "output_type": "stream",
     "text": [
      "통합 데이터: 89,412개\n"
     ]
    }
   ],
   "source": [
    "import pandas as pd\n",
    "import numpy as np\n",
    "\n",
    "labeled_data_path = \"/Users/yeong-gwang/Documents/배움 오전 1.38.42/외부/공모전/빅콘테스트/Project/work/ver3_/1012/result/1_시간라벨링/labeled_data.csv\"\n",
    "df = pd.read_csv(labeled_data_path)\n",
    "\n",
    "cluster_path = \"/Users/yeong-gwang/Documents/배움 오전 1.38.42/외부/공모전/빅콘테스트/Project/work/ver3_/1012/result/3_가설1분석/클러스터링_결과_완전판.csv\"\n",
    "cluster_df = pd.read_csv(cluster_path)\n",
    "\n",
    "df = df.merge(cluster_df[['가맹점구분번호', 'cluster']], on='가맹점구분번호', how='left')\n",
    "df['위험그룹'] = df['cluster'].apply(lambda x: '고위험' if x in [0, 2] else '정상' if x == 1 else '알수없음')\n",
    "\n",
    "print(f\"통합 데이터: {len(df):,}개\")"
   ]
  },
  {
   "cell_type": "markdown",
   "metadata": {},
   "source": [
    "## 최종 위험도 스코어 계산 (0-100점)"
   ]
  },
  {
   "cell_type": "code",
   "execution_count": 2,
   "metadata": {},
   "outputs": [
    {
     "name": "stdout",
     "output_type": "stream",
     "text": [
      "\n",
      "[최종 위험도 분포]\n",
      "count    89412.000000\n",
      "mean        44.897609\n",
      "std          2.317931\n",
      "min         15.000000\n",
      "25%         45.000000\n",
      "50%         45.000000\n",
      "75%         45.000000\n",
      "max         70.000000\n",
      "Name: 최종위험도, dtype: float64\n"
     ]
    }
   ],
   "source": [
    "# 클러스터 기반 위험도 (0-40점)\n",
    "def cluster_risk_score(cluster):\n",
    "    if cluster == 0:\n",
    "        return 40\n",
    "    elif cluster == 2:\n",
    "        return 35\n",
    "    elif cluster == 1:\n",
    "        return 10\n",
    "    else:\n",
    "        return 0\n",
    "\n",
    "df['클러스터위험점수'] = df['cluster'].apply(cluster_risk_score)\n",
    "\n",
    "# 시간 라벨 기반 긴급도 (0-30점)\n",
    "def time_urgency_score(status):\n",
    "    if status == 'D-3m':\n",
    "        return 30\n",
    "    elif status == 'D-6m':\n",
    "        return 25\n",
    "    elif status == 'D-9m':\n",
    "        return 20\n",
    "    elif status == 'D-12m':\n",
    "        return 15\n",
    "    elif status == '정상영업':\n",
    "        return 5\n",
    "    else:\n",
    "        return 0\n",
    "\n",
    "if '상태' in df.columns:\n",
    "    df['긴급도점수'] = df['상태'].apply(time_urgency_score)\n",
    "else:\n",
    "    df['긴급도점수'] = 0\n",
    "\n",
    "# 최종 위험도 (0-100점)\n",
    "df['최종위험도'] = df['클러스터위험점수'] + df['긴급도점수']\n",
    "\n",
    "print(\"\\n[최종 위험도 분포]\")\n",
    "print(df['최종위험도'].describe())"
   ]
  },
  {
   "cell_type": "markdown",
   "metadata": {},
   "source": [
    "## 위험 등급 분류"
   ]
  },
  {
   "cell_type": "code",
   "execution_count": 3,
   "metadata": {},
   "outputs": [
    {
     "name": "stdout",
     "output_type": "stream",
     "text": [
      "\n",
      "[최종 위험 등급 분포]\n",
      "최종위험등급\n",
      "고위험      365\n",
      "저위험      447\n",
      "정상       143\n",
      "중위험    88457\n",
      "Name: count, dtype: int64\n"
     ]
    }
   ],
   "source": [
    "def classify_final_risk(score):\n",
    "    if score >= 80:\n",
    "        return '최고위험'\n",
    "    elif score >= 60:\n",
    "        return '고위험'\n",
    "    elif score >= 40:\n",
    "        return '중위험'\n",
    "    elif score >= 20:\n",
    "        return '저위험'\n",
    "    else:\n",
    "        return '정상'\n",
    "\n",
    "df['최종위험등급'] = df['최종위험도'].apply(classify_final_risk)\n",
    "\n",
    "print(\"\\n[최종 위험 등급 분포]\")\n",
    "print(df['최종위험등급'].value_counts().sort_index())"
   ]
  },
  {
   "cell_type": "markdown",
   "metadata": {},
   "source": [
    "### 종합 결론\n",
    "\n",
    "## 최종 위험도 평가 체계\n",
    "- **최고위험 (80+)**: 즉시 개입 필요\n",
    "- **고위험 (60-79)**: 주간 모니터링\n",
    "- **중위험 (40-59)**: 월간 점검\n",
    "- **저위험 (20-39)**: 분기별 관찰\n",
    "- **정상 (<20)**: 연간 평가\n",
    "\n",
    "## 정책 활용\n",
    "1. 위험도 기반 자원 배분\n",
    "2. 타겟별 맞춤 정책 수립\n",
    "3. 조기 경보 시스템 운영"
   ]
  }
 ],
 "metadata": {
  "kernelspec": {
   "display_name": "base",
   "language": "python",
   "name": "python3"
  },
  "language_info": {
   "codemirror_mode": {
    "name": "ipython",
    "version": 3
   },
   "file_extension": ".py",
   "mimetype": "text/x-python",
   "name": "python",
   "nbconvert_exporter": "python",
   "pygments_lexer": "ipython3",
   "version": "3.12.7"
  }
 },
 "nbformat": 4,
 "nbformat_minor": 4
}
